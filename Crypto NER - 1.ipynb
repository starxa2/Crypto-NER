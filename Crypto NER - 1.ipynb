{
 "cells": [
  {
   "cell_type": "code",
   "execution_count": 1,
   "metadata": {},
   "outputs": [],
   "source": [
    "import pandas as pd\n",
    "import matplotlib.pyplot as plt\n",
    "import numpy as np\n",
    "import re\n",
    "\n",
    "import spacy\n",
    "import nltk\n",
    "from nltk.tokenize import PunktSentenceTokenizer"
   ]
  },
  {
   "cell_type": "code",
   "execution_count": 2,
   "metadata": {
    "scrolled": false
   },
   "outputs": [
    {
     "data": {
      "text/html": [
       "<div>\n",
       "<style scoped>\n",
       "    .dataframe tbody tr th:only-of-type {\n",
       "        vertical-align: middle;\n",
       "    }\n",
       "\n",
       "    .dataframe tbody tr th {\n",
       "        vertical-align: top;\n",
       "    }\n",
       "\n",
       "    .dataframe thead th {\n",
       "        text-align: right;\n",
       "    }\n",
       "</style>\n",
       "<table border=\"1\" class=\"dataframe\">\n",
       "  <thead>\n",
       "    <tr style=\"text-align: right;\">\n",
       "      <th></th>\n",
       "      <th>id</th>\n",
       "      <th>content</th>\n",
       "    </tr>\n",
       "  </thead>\n",
       "  <tbody>\n",
       "    <tr>\n",
       "      <th>0</th>\n",
       "      <td>321712</td>\n",
       "      <td>Hey 👋 \\n\\nWe re using our bot:\\n\\nhttps://t.me...</td>\n",
       "    </tr>\n",
       "    <tr>\n",
       "      <th>1</th>\n",
       "      <td>321713</td>\n",
       "      <td>Good stuff \\n\\nI am surprised I took so long t...</td>\n",
       "    </tr>\n",
       "    <tr>\n",
       "      <th>2</th>\n",
       "      <td>321717</td>\n",
       "      <td>you are using a non-official one</td>\n",
       "    </tr>\n",
       "    <tr>\n",
       "      <th>3</th>\n",
       "      <td>321718</td>\n",
       "      <td>use the one that uniswap uses: https://thegrap...</td>\n",
       "    </tr>\n",
       "    <tr>\n",
       "      <th>4</th>\n",
       "      <td>321719</td>\n",
       "      <td>keep in mind this is a hot subgraph so it can ...</td>\n",
       "    </tr>\n",
       "    <tr>\n",
       "      <th>...</th>\n",
       "      <td>...</td>\n",
       "      <td>...</td>\n",
       "    </tr>\n",
       "    <tr>\n",
       "      <th>44131</th>\n",
       "      <td>374466</td>\n",
       "      <td>Can find it in many places\\nAlso on Santiment:...</td>\n",
       "    </tr>\n",
       "    <tr>\n",
       "      <th>44132</th>\n",
       "      <td>374467</td>\n",
       "      <td>guys, does anyone know if there is an applicat...</td>\n",
       "    </tr>\n",
       "    <tr>\n",
       "      <th>44133</th>\n",
       "      <td>374468</td>\n",
       "      <td>Any Lobsters going to Kyiv Web3 Hackathon Sept...</td>\n",
       "    </tr>\n",
       "    <tr>\n",
       "      <th>44134</th>\n",
       "      <td>374469</td>\n",
       "      <td>whats funny is that no one complains about the...</td>\n",
       "    </tr>\n",
       "    <tr>\n",
       "      <th>44135</th>\n",
       "      <td>374470</td>\n",
       "      <td>By the way, which do you think is the on-chain...</td>\n",
       "    </tr>\n",
       "  </tbody>\n",
       "</table>\n",
       "<p>44136 rows × 2 columns</p>\n",
       "</div>"
      ],
      "text/plain": [
       "           id                                            content\n",
       "0      321712  Hey 👋 \\n\\nWe re using our bot:\\n\\nhttps://t.me...\n",
       "1      321713  Good stuff \\n\\nI am surprised I took so long t...\n",
       "2      321717                   you are using a non-official one\n",
       "3      321718  use the one that uniswap uses: https://thegrap...\n",
       "4      321719  keep in mind this is a hot subgraph so it can ...\n",
       "...       ...                                                ...\n",
       "44131  374466  Can find it in many places\\nAlso on Santiment:...\n",
       "44132  374467  guys, does anyone know if there is an applicat...\n",
       "44133  374468  Any Lobsters going to Kyiv Web3 Hackathon Sept...\n",
       "44134  374469  whats funny is that no one complains about the...\n",
       "44135  374470  By the way, which do you think is the on-chain...\n",
       "\n",
       "[44136 rows x 2 columns]"
      ]
     },
     "execution_count": 2,
     "metadata": {},
     "output_type": "execute_result"
    }
   ],
   "source": [
    "data = pd.read_csv(\"data/data.csv\")\n",
    "abb = pd.read_csv(\"data/term_abb.csv\")\n",
    "term_def = pd.read_csv(\"data/term_def.csv\")\n",
    "data"
   ]
  },
  {
   "cell_type": "markdown",
   "metadata": {},
   "source": [
    "## Cleaning the data \n",
    "Removing the stopwords, punctuations"
   ]
  },
  {
   "cell_type": "code",
   "execution_count": 3,
   "metadata": {},
   "outputs": [
    {
     "data": {
      "text/plain": [
       "0    Hey 👋 We using bot: https: t.me lobster_watche...\n",
       "1    Good stuff I surprised I took long find commun...\n",
       "2                               using non-official one\n",
       "3    use one uniswap uses: https: thegraph.com host...\n",
       "4    keep mind hot subgraph change anytime without ...\n",
       "Name: content, dtype: object"
      ]
     },
     "execution_count": 3,
     "metadata": {},
     "output_type": "execute_result"
    }
   ],
   "source": [
    "stopwordlist = ['a', 'about', 'above', 'after', 'again', 'ain', 'all', 'am', 'an',\n",
    "             'and','any','are', 'as', 'at', 'be', 'because', 'been', 'before',\n",
    "             'being', 'below', 'between','both', 'by', 'can', 'd', 'did', 'do',\n",
    "             'does', 'doing', 'down', 'during', 'each','few', 'for', 'from',\n",
    "             'further', 'had', 'has', 'have', 'having', 'he', 'her', 'here',\n",
    "             'hers', 'herself', 'him', 'himself', 'his', 'how', 'i', 'if', 'in',\n",
    "             'into','is', 'it', 'its', 'itself', 'just', 'll', 'm', 'ma',\n",
    "             'me', 'more', 'most','my', 'myself', 'now', 'o', 'of', 'on', 'once',\n",
    "             'only', 'or', 'other', 'our', 'ours','ourselves', 'out', 'own', 're','s', 'same', 'she', \"shes\", 'should', \"shouldve\",'so', 'some', 'such',\n",
    "             't', 'than', 'that', \"thatll\", 'the', 'their', 'theirs', 'them',\n",
    "             'themselves', 'then', 'there', 'these', 'they', 'this', 'those',\n",
    "             'through', 'to', 'too','under', 'until', 'up', 've', 'very', 'was',\n",
    "             'we', 'were', 'what', 'when', 'where','which','while', 'who', 'whom',\n",
    "             'why', 'will', 'with', 'won', 'y', 'you', \"youd\",\"youll\", \"youre\",\n",
    "             \"youve\", 'your', 'yours', 'yourself', 'yourselves']\n",
    "\n",
    "STOPWORDS = set(stopwordlist)\n",
    "def cleaning_stopwords(text):\n",
    "    text = str(text)\n",
    "    text = text.replace(\"/\", \" \")\n",
    "    return \" \".join([word for word in str(text).split() if word not in STOPWORDS])\n",
    "data['content'] = data['content'].apply(lambda text: cleaning_stopwords(text))\n",
    "data['content'].head()"
   ]
  },
  {
   "cell_type": "code",
   "execution_count": 4,
   "metadata": {},
   "outputs": [
    {
     "data": {
      "text/plain": [
       "44131    Can find many places Also Santiment historical...\n",
       "44132    guys anyone know application tools able check ...\n",
       "44133    Any Lobsters going Kyiv Web3 Hackathon Septemb...\n",
       "44134    whats funny no one complains txs rejected cens...\n",
       "44135    By way think onchain analytics best user exper...\n",
       "Name: content, dtype: object"
      ]
     },
     "execution_count": 4,
     "metadata": {},
     "output_type": "execute_result"
    }
   ],
   "source": [
    "import string\n",
    "\n",
    "english_punctuations = string.punctuation\n",
    "punctuations_list = english_punctuations\n",
    "\n",
    "def cleaning_punctuations(text):\n",
    "    translator = str.maketrans('', '', punctuations_list)\n",
    "    return text.translate(translator)\n",
    "data['content']= data['content'].apply(lambda x: cleaning_punctuations(x))\n",
    "data['content'].tail()"
   ]
  },
  {
   "cell_type": "code",
   "execution_count": 5,
   "metadata": {},
   "outputs": [
    {
     "data": {
      "text/plain": [
       "'Hey 👋 We using bot https tme lobsterwatcher And also filtering recommendations select topics worth attention 5 people duty every day'"
      ]
     },
     "execution_count": 5,
     "metadata": {},
     "output_type": "execute_result"
    }
   ],
   "source": [
    "data['content'][0]"
   ]
  },
  {
   "cell_type": "code",
   "execution_count": 6,
   "metadata": {},
   "outputs": [],
   "source": [
    "def cleaning_pipeline(text):\n",
    "    tmp = cleaning_stopwords(text)\n",
    "    tmp = cleaning_punctuations(tmp)\n",
    "    return tmp"
   ]
  },
  {
   "cell_type": "code",
   "execution_count": 7,
   "metadata": {},
   "outputs": [
    {
     "data": {
      "text/plain": [
       "0.7142857142857143"
      ]
     },
     "execution_count": 7,
     "metadata": {},
     "output_type": "execute_result"
    }
   ],
   "source": [
    "from difflib import SequenceMatcher\n",
    "\n",
    "s = SequenceMatcher(None, 'apple', 'pineapple')\n",
    "s.ratio() # This shows how much the two words are related to each other"
   ]
  },
  {
   "cell_type": "code",
   "execution_count": 8,
   "metadata": {},
   "outputs": [],
   "source": [
    "def tokenize(text):\n",
    "    words = nltk.word_tokenize(text)\n",
    "    return words"
   ]
  },
  {
   "cell_type": "code",
   "execution_count": 9,
   "metadata": {
    "scrolled": true
   },
   "outputs": [],
   "source": [
    "crypto_words = list(abb.terms.apply(lambda x:x.lower())) + list(term_def.terms.apply(lambda x:x.lower()))\n",
    "crypto_words.append(\"crypto\")\n",
    "\n",
    "def get_crypto_related_words(text):\n",
    "    words = tokenize(text.lower())\n",
    "    \n",
    "    set_of_words = set()\n",
    "    for word in words:\n",
    "        for i in crypto_words:\n",
    "            s = SequenceMatcher(None, word, i)\n",
    "            if s.ratio() >= 0.8 or i in word:\n",
    "                set_of_words.add(word)\n",
    "    return list(set_of_words)"
   ]
  },
  {
   "cell_type": "code",
   "execution_count": 10,
   "metadata": {},
   "outputs": [
    {
     "data": {
      "text/plain": [
       "'We need extract crypto related words phrases conversational messages different crypto related channels Eg  The phrases marked bold ones needs extracted This super exciting Using deep reinforcement learning analyze Blockchain security find even better selfish mining techniques By way think onchain analytics best user experience Preferably ones selfserved everyone team use Were launching incentivized testnet polygon today tokensoft'"
      ]
     },
     "execution_count": 10,
     "metadata": {},
     "output_type": "execute_result"
    }
   ],
   "source": [
    "string = cleaning_pipeline(\"\"\"\n",
    "We need to extract crypto related words / phrases from the conversational messages of different crypto related channels\n",
    "Eg -> The phrases marked in [bold] are the ones which needs to be extracted\n",
    "This is super exciting. Using deep reinforcement learning to **analyze Blockchain security** and find even better selfish **mining techniques**\n",
    "By the way, which do you think is the **on-chain analytics** with the best user experience?\n",
    "Preferably the ones that are self-served and that everyone on the team can use\n",
    "We're launching **incentivized testnet** on **polygon** today at **tokensoft**\n",
    "\"\"\")\n",
    "string"
   ]
  },
  {
   "cell_type": "code",
   "execution_count": 11,
   "metadata": {
    "scrolled": true
   },
   "outputs": [
    {
     "data": {
      "text/plain": [
       "['blockchain', 'onchain', 'tokensoft', 'mining', 'crypto', 'testnet']"
      ]
     },
     "execution_count": 11,
     "metadata": {},
     "output_type": "execute_result"
    }
   ],
   "source": [
    "get_crypto_related_words(string)"
   ]
  },
  {
   "cell_type": "code",
   "execution_count": 12,
   "metadata": {},
   "outputs": [],
   "source": [
    "start, end = 100, 200\n",
    "result, result2 = [], []\n",
    "for string in data.content[start:end]:\n",
    "    s = str(string).lower()\n",
    "    tmp = get_crypto_related_words(s)\n",
    "    result.append((s, tmp))\n",
    "    if tmp:\n",
    "        result2.append((s, tmp))"
   ]
  },
  {
   "cell_type": "code",
   "execution_count": 13,
   "metadata": {},
   "outputs": [
    {
     "data": {
      "text/plain": [
       "[('https tme nftavenue people like post without fear getting banned',\n",
       "  ['nftavenue']),\n",
       " ('joke shared already but agree', []),\n",
       " ('nice update gearbox announcements thank ser ivangbi', []),\n",
       " ('https twittercom aaveaave status 1488277654315102208s21', []),\n",
       " ('https etherscanio address 0x5dd596c901987a2b28c38a9c1dfbf86fffc15d77',\n",
       "  ['etherscanio', 'address']),\n",
       " ('tornado', []),\n",
       " ('guess he’s next handle be', ['next']),\n",
       " ('btw tornado cash really safe term privacy fund really can’t tracked',\n",
       "  ['cash', 'fund']),\n",
       " ('8k eth withdrawal noticeable even split across wallets', ['wallets']),\n",
       " ('splitting hundred wallets around half year nobody notice i think',\n",
       "  ['wallets']),\n",
       " ('reasonably safe done correctly if impatient pull much put it’s obvious there’s deniability nice but it’s nothing like privacy first tech aztec secret etc',\n",
       "  []),\n",
       " ('you probability stuff but guess work protocol ensures 100 privacy', []),\n",
       " ('insane guys built generational wealth scamming people like that…', []),\n",
       " ('on testnet i get like thousand eth easy', ['testnet']),\n",
       " ('one start locally', []),\n",
       " ('haha except that should added i want publicly available', []),\n",
       " ('u tainted coins  dont get', []),\n",
       " ('check decommasio multisender', []),\n",
       " ('good question', []),\n",
       " ('in case investigation irs i hypothesizing condone anyone i not even sure method would work don’t no sarcasm 1 you supposedly anonymously create shitcoin call time buy actual clean wallet worth 10k usd start 2 you proceed buy dirty wallets create volumes make community bribes etc creates legitimacy around coin 3 along way people buy sell might buying someone else’s bags consider expense like 10 washing ofc stop buying point this much harder think need legitimacy around project but tldr option you might end losing much case but one options growing market even make way notional had',\n",
       "  ['case', 'wallets', 'shitcoin', 'no', 'wallet']),\n",
       " ('isn’t easier lowquality bluecryptoshark nft project',\n",
       "  ['bluecryptoshark', 'nft']),\n",
       " ('yes but 100x nft no market except bots no chance hell competent bank accept funds',\n",
       "  ['no', 'chance', 'nft']),\n",
       " ('and also opensea takes 25 default washing not cheap all ownself created marketplace 0 opensea colume it’s clearly fake',\n",
       "  []),\n",
       " ('instructions unclear… launching looksrare fork  nft project',\n",
       "  ['nft', 'fork']),\n",
       " ('this continuation cex world pre 2017 chinese exchanges billions fake volume coinbase 20 mm',\n",
       "  []),\n",
       " ('volumes advertising eyeballs', []),\n",
       " ('chinese exchanges still billions volumes', []),\n",
       " ('thanks mate have used ', []),\n",
       " ('used feedback would awesome', []),\n",
       " ('i might naive but banks competent  ie raise flag “hey nft project looks like bought bots os” 😅',\n",
       "  ['ie', 'nft']),\n",
       " ('banks ask proof funds dont like reject you the irs might become bigger issue kind things once take actual interest you capable finding everything same goes law enforcement determine worth it get you in general tricks get harder pull money play',\n",
       "  []),\n",
       " ('agree  you signing sentence present record pretend it’s gonna okay your call but i personally many not condone crimes not committ them endorse way no sarcasm not fraud and make sure pay taxes',\n",
       "  ['no']),\n",
       " ('anyway legal couch advice again let’s end it we speculating sifu could doing but that’s not safe discussion',\n",
       "  []),\n",
       " ('i not endorse neither i’m curious know extend actors banks irs linkedin recruiters adapted because well it’s another side adoption  i pay tax ser everyone should fraud ev long run',\n",
       "  []),\n",
       " ('for know sifu could raising funds search next dragon warrior',\n",
       "  ['for', 'next']),\n",
       " ('in multisig raiden', []),\n",
       " ('what  tornado sifu’s', []),\n",
       " ('its not sifu discussion one might say', []),\n",
       " ('total around 150k eth prob around 5 https dunexyz poma tornadocash1', []),\n",
       " ('and kids hate you', []),\n",
       " ('jesus sifu lol', []),\n",
       " ('tornado’ing money', []),\n",
       " ('thanks idk math curious point “x major depositors” become statistical worry but i assume it’s close impossible dissect',\n",
       "  ['math']),\n",
       " ('500 unique users per week 46k eth withdrawals per month 115 per week so withdrawals 45 eth 2x avg per week might trigger pointers i presume',\n",
       "  []),\n",
       " ('who raiden', []),\n",
       " ('sifu tornado 150k eth', []),\n",
       " ('150k', []),\n",
       " ('total tornado', []),\n",
       " ('https twittercom peterszilagyi status 1488465295350108165', []),\n",
       " ('nothing happens crypto though', ['crypto']),\n",
       " ('some say life danger', []),\n",
       " ('when whole sisyphus0x thing happened said beerus life danger well',\n",
       "  ['whole']),\n",
       " ('nothing happened', []),\n",
       " ('crypto scammers paradise', ['crypto']),\n",
       " ('https twittercom balajis status 1488460854018260992', []),\n",
       " ('wonder someone even following happened formal complaint said registered',\n",
       "  []),\n",
       " ('couch legal advice again redacted all some need counsel shows all it legal tax psychiatrist',\n",
       "  []),\n",
       " ('anyone knows generalist who’s good counselling 3 lmk', []),\n",
       " ('yes i tried deposit funds sale ape i minted “crypto native” bank rejected citing lack kyc opensea now imagine showing project one profiting 😅 maybe bank less familiar crypto wouldn’t think things knows 🤷\\u200d♀️',\n",
       "  ['kyc', 'crypto']),\n",
       " ('ivangbi blz delete armchair', []),\n",
       " ('nah relevant cause u r not larp  u r loaded so counts fine feedback', []),\n",
       " ('try depositing dsd claim it’s 1 blame bank say not true', []),\n",
       " ('i’ll tell use oracle reads rock solid 1', ['oracle']),\n",
       " ('also i’m definitely larp how dare you', []),\n",
       " ('solana ok everything working smoothly anyway ask questions tg chat', []),\n",
       " ('nan', ['nan']),\n",
       " ('dao  daniele asserts order', []),\n",
       " ('i thought daos self managing', []),\n",
       " ('dao  daniele assets operation', []),\n",
       " ('daniele introducing 1 person multisig', []),\n",
       " ('shifting toward cdo centralized dependent organisation did explain meant no vote ultimo leader style hes allowed create proposal nothing change really gov process thats bluff',\n",
       "  ['centralized', 'no']),\n",
       " ('people want follow leader like people voted no liquidation', ['no']),\n",
       " ('cool thanks lot', []),\n",
       " ('meanwhile ondo dreams sushi from ondos discord https docsgooglecom document 1du4k0ro0plezraqpaxxkrxgwxniidbbqabdeqkzg edit',\n",
       "  []),\n",
       " ('daniele  associates oligarchy', []),\n",
       " ('more respectable title 🙃', []),\n",
       " ('https twittercom cryptowhale status 1488488932237000706', ['cryptowhale']),\n",
       " ('https twittercom 0xsifu status 1488502787214397444', []),\n",
       " ('trying say paying partner crime privately', []),\n",
       " ('comeon needs privacy https twittercom 0xsifu status 1488504242453241857t2gtzxfkqgmkywwmqw5nuas19',\n",
       "  []),\n",
       " ('https twittercom powerpoolcvp status 1488317899764862978s21', []),\n",
       " ('sounds complex', []),\n",
       " ('didn’t slash ppls vesting not checking forums weeks long something', []),\n",
       " ('https twittercom 0xsifu status 1488515404545028100 sifu replied me lol',\n",
       "  []),\n",
       " ('hey guys i open discussion adtiya derivadex right zoom feel free hop interested derivatives hardware innovations defi https us06webzoomus j 3991662367',\n",
       "  []),\n",
       " ('not twitter space', ['space']),\n",
       " ('lmao see reply https twittercom daodude status 1488519805086883848', []),\n",
       " ('testing smething', []),\n",
       " ('hardware defi', []),\n",
       " ('lol ill explain shortly', []),\n",
       " ('ivangbi pls check dm ser', []),\n",
       " ('https wwwtheblockcryptocom post 132560 consensysacquiresmycryptoutmsourcerssutmmediumrss',\n",
       "  ['consensysacquiresmycryptoutmsourcerssutmmediumrss',\n",
       "   'wwwtheblockcryptocom']),\n",
       " ('https blogmycryptocom mycryptoisjoiningmetamask',\n",
       "  ['mycryptoisjoiningmetamask', 'blogmycryptocom']),\n",
       " ('new market review glassnode released https wwwyoutubecom watchvxd00nbofzhm',\n",
       "  ['glassnode']),\n",
       " ('weird see matthew effect causing centralization inherently intentionally decentralized space but its expected',\n",
       "  ['decentralized', 'space']),\n",
       " ('so triple felon takes funds time treasury sells washes onchain ens wallet still active twitter no one shit',\n",
       "  ['triple', 'wallet', 'onchain', 'no']),\n",
       " ('what want people do', ['do']),\n",
       " ('wanted keep small close knit group avoid pleb talk random generic crowd',\n",
       "  []),\n",
       " ('but think twitter spaces way go going forward', ['spaces']),\n",
       " ('another big twitch streamer scammed 700k bsc doge fork not looking good',\n",
       "  ['fork'])]"
      ]
     },
     "execution_count": 13,
     "metadata": {},
     "output_type": "execute_result"
    }
   ],
   "source": [
    "result"
   ]
  },
  {
   "cell_type": "code",
   "execution_count": 14,
   "metadata": {},
   "outputs": [
    {
     "data": {
      "text/plain": [
       "('in case investigation irs i hypothesizing condone anyone i not even sure method would work don’t no sarcasm 1 you supposedly anonymously create shitcoin call time buy actual clean wallet worth 10k usd start 2 you proceed buy dirty wallets create volumes make community bribes etc creates legitimacy around coin 3 along way people buy sell might buying someone else’s bags consider expense like 10 washing ofc stop buying point this much harder think need legitimacy around project but tldr option you might end losing much case but one options growing market even make way notional had',\n",
       " ['case', 'wallets', 'shitcoin', 'no', 'wallet'])"
      ]
     },
     "execution_count": 14,
     "metadata": {},
     "output_type": "execute_result"
    }
   ],
   "source": [
    "result[19]"
   ]
  },
  {
   "cell_type": "code",
   "execution_count": 15,
   "metadata": {},
   "outputs": [
    {
     "data": {
      "text/plain": [
       "('isn’t easier lowquality bluecryptoshark nft project',\n",
       " ['bluecryptoshark', 'nft'])"
      ]
     },
     "execution_count": 15,
     "metadata": {},
     "output_type": "execute_result"
    }
   ],
   "source": [
    "result[20]"
   ]
  },
  {
   "cell_type": "code",
   "execution_count": 16,
   "metadata": {},
   "outputs": [
    {
     "data": {
      "text/plain": [
       "('this continuation cex world pre 2017 chinese exchanges billions fake volume coinbase 20 mm',\n",
       " [])"
      ]
     },
     "execution_count": 16,
     "metadata": {},
     "output_type": "execute_result"
    }
   ],
   "source": [
    "result[24]"
   ]
  },
  {
   "cell_type": "code",
   "execution_count": 17,
   "metadata": {},
   "outputs": [
    {
     "data": {
      "text/plain": [
       "[('https tme nftavenue people like post without fear getting banned',\n",
       "  ['nftavenue']),\n",
       " ('https etherscanio address 0x5dd596c901987a2b28c38a9c1dfbf86fffc15d77',\n",
       "  ['etherscanio', 'address']),\n",
       " ('guess he’s next handle be', ['next']),\n",
       " ('btw tornado cash really safe term privacy fund really can’t tracked',\n",
       "  ['cash', 'fund']),\n",
       " ('8k eth withdrawal noticeable even split across wallets', ['wallets']),\n",
       " ('splitting hundred wallets around half year nobody notice i think',\n",
       "  ['wallets']),\n",
       " ('on testnet i get like thousand eth easy', ['testnet']),\n",
       " ('in case investigation irs i hypothesizing condone anyone i not even sure method would work don’t no sarcasm 1 you supposedly anonymously create shitcoin call time buy actual clean wallet worth 10k usd start 2 you proceed buy dirty wallets create volumes make community bribes etc creates legitimacy around coin 3 along way people buy sell might buying someone else’s bags consider expense like 10 washing ofc stop buying point this much harder think need legitimacy around project but tldr option you might end losing much case but one options growing market even make way notional had',\n",
       "  ['case', 'wallets', 'shitcoin', 'no', 'wallet']),\n",
       " ('isn’t easier lowquality bluecryptoshark nft project',\n",
       "  ['bluecryptoshark', 'nft']),\n",
       " ('yes but 100x nft no market except bots no chance hell competent bank accept funds',\n",
       "  ['no', 'chance', 'nft']),\n",
       " ('instructions unclear… launching looksrare fork  nft project',\n",
       "  ['nft', 'fork']),\n",
       " ('i might naive but banks competent  ie raise flag “hey nft project looks like bought bots os” 😅',\n",
       "  ['ie', 'nft']),\n",
       " ('agree  you signing sentence present record pretend it’s gonna okay your call but i personally many not condone crimes not committ them endorse way no sarcasm not fraud and make sure pay taxes',\n",
       "  ['no']),\n",
       " ('for know sifu could raising funds search next dragon warrior',\n",
       "  ['for', 'next']),\n",
       " ('thanks idk math curious point “x major depositors” become statistical worry but i assume it’s close impossible dissect',\n",
       "  ['math']),\n",
       " ('nothing happens crypto though', ['crypto']),\n",
       " ('when whole sisyphus0x thing happened said beerus life danger well',\n",
       "  ['whole']),\n",
       " ('crypto scammers paradise', ['crypto']),\n",
       " ('yes i tried deposit funds sale ape i minted “crypto native” bank rejected citing lack kyc opensea now imagine showing project one profiting 😅 maybe bank less familiar crypto wouldn’t think things knows 🤷\\u200d♀️',\n",
       "  ['kyc', 'crypto']),\n",
       " ('i’ll tell use oracle reads rock solid 1', ['oracle']),\n",
       " ('nan', ['nan']),\n",
       " ('shifting toward cdo centralized dependent organisation did explain meant no vote ultimo leader style hes allowed create proposal nothing change really gov process thats bluff',\n",
       "  ['centralized', 'no']),\n",
       " ('people want follow leader like people voted no liquidation', ['no']),\n",
       " ('https twittercom cryptowhale status 1488488932237000706', ['cryptowhale']),\n",
       " ('not twitter space', ['space']),\n",
       " ('https wwwtheblockcryptocom post 132560 consensysacquiresmycryptoutmsourcerssutmmediumrss',\n",
       "  ['consensysacquiresmycryptoutmsourcerssutmmediumrss',\n",
       "   'wwwtheblockcryptocom']),\n",
       " ('https blogmycryptocom mycryptoisjoiningmetamask',\n",
       "  ['mycryptoisjoiningmetamask', 'blogmycryptocom']),\n",
       " ('new market review glassnode released https wwwyoutubecom watchvxd00nbofzhm',\n",
       "  ['glassnode']),\n",
       " ('weird see matthew effect causing centralization inherently intentionally decentralized space but its expected',\n",
       "  ['decentralized', 'space']),\n",
       " ('so triple felon takes funds time treasury sells washes onchain ens wallet still active twitter no one shit',\n",
       "  ['triple', 'wallet', 'onchain', 'no']),\n",
       " ('what want people do', ['do']),\n",
       " ('but think twitter spaces way go going forward', ['spaces']),\n",
       " ('another big twitch streamer scammed 700k bsc doge fork not looking good',\n",
       "  ['fork'])]"
      ]
     },
     "execution_count": 17,
     "metadata": {},
     "output_type": "execute_result"
    }
   ],
   "source": [
    "result2"
   ]
  }
 ],
 "metadata": {
  "kernelspec": {
   "display_name": "Python 3",
   "language": "python",
   "name": "python3"
  },
  "language_info": {
   "codemirror_mode": {
    "name": "ipython",
    "version": 3
   },
   "file_extension": ".py",
   "mimetype": "text/x-python",
   "name": "python",
   "nbconvert_exporter": "python",
   "pygments_lexer": "ipython3",
   "version": "3.7.5"
  }
 },
 "nbformat": 4,
 "nbformat_minor": 5
}
